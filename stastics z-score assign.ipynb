{
 "cells": [
  {
   "cell_type": "markdown",
   "id": "df7ef9eb-7b3c-4296-9367-abca3503623a",
   "metadata": {},
   "source": [
    "# ques no 1"
   ]
  },
  {
   "cell_type": "code",
   "execution_count": null,
   "id": "de6d0afa-cf30-49e5-88d5-2758338891ad",
   "metadata": {},
   "outputs": [],
   "source": [
    "Probability mass functions (pmf) are used to describe discrete probability distribution.\n",
    "While probability density functions (pdf) are used to describe continuous probability distributions"
   ]
  },
  {
   "cell_type": "code",
   "execution_count": null,
   "id": "5c9e4ae4-b5bb-4baf-9fa7-6ac74142e0a7",
   "metadata": {},
   "outputs": [],
   "source": [
    "ex of pdf is \n",
    "lets take height of student of class room \n",
    "Pr(x<=150) that is equal to the area under curve "
   ]
  },
  {
   "cell_type": "code",
   "execution_count": null,
   "id": "003cf37d-913d-420e-be24-ca7759274e2f",
   "metadata": {},
   "outputs": [],
   "source": [
    "ex of pmf is \n",
    "rolling of dice {1,2,3,4,5,6}\n",
    "P(<=4) = p(1)+...p(4)"
   ]
  },
  {
   "cell_type": "markdown",
   "id": "dbd5dff9-ac26-42a9-ac9d-9e35c37cc213",
   "metadata": {},
   "source": [
    "ques no 2"
   ]
  },
  {
   "cell_type": "code",
   "execution_count": null,
   "id": "bcc57271-bbed-42f6-b27f-1ff1ecea1a31",
   "metadata": {},
   "outputs": [],
   "source": [
    "it is the  probability function that (X) will take a value less than or equal to x\n",
    "It is used to describe the probability distribution of random variables in a table\n"
   ]
  },
  {
   "cell_type": "markdown",
   "id": "50ff22ed-45a0-47dc-b0de-14b2d9f38f36",
   "metadata": {},
   "source": [
    "ques 3"
   ]
  },
  {
   "cell_type": "code",
   "execution_count": null,
   "id": "ea60f1ce-fdc1-4356-b9bd-289b7ab3bcd5",
   "metadata": {},
   "outputs": [],
   "source": [
    "example of cdf\n",
    "Birthweight of Babies.\n",
    "Height of Males.\n",
    " Blood Pressure.\n",
    "Additional Resources.\n",
    "The two main parameters of a (normal) distribution is the  mean and standard deviation"
   ]
  },
  {
   "cell_type": "markdown",
   "id": "258c28bd-5227-4212-b266-41b1569f757e",
   "metadata": {},
   "source": [
    "QUEES 4"
   ]
  },
  {
   "cell_type": "code",
   "execution_count": null,
   "id": "80e5fd0a-079b-4080-ad3d-e92c2e7586ee",
   "metadata": {},
   "outputs": [],
   "source": [
    "important probability distribution in math and statistics because many continous data is shown in nature are\n",
    "show bell shaped structure is shown when displayed on graph\n",
    "\n",
    "Height, birth weight, reading ability, job satisfaction"
   ]
  },
  {
   "cell_type": "markdown",
   "id": "82014f5f-4499-4c83-b28d-b136fa9ed5cb",
   "metadata": {},
   "source": [
    "quess 5"
   ]
  },
  {
   "cell_type": "code",
   "execution_count": null,
   "id": "62537699-ef5c-4fdc-935c-20bddb122ca4",
   "metadata": {},
   "outputs": [],
   "source": [
    "Bernoullis  distribution is the discrete prbibality distribution of randon variable which takes the value with\n",
    "probibality p and the value 0 with probibality q = 1-p.\n",
    "The Bernoulli distribution represents the success/ failure of one Bernoulli trial\n",
    "The Binomial Distribution represents the number of successes and failures \n",
    "in n independent Bernoulli trials for some given value of n.\n"
   ]
  },
  {
   "cell_type": "markdown",
   "id": "0b3aa8dc-f437-436d-b82d-f6a55fa8cc32",
   "metadata": {},
   "source": [
    "ques 7"
   ]
  },
  {
   "cell_type": "code",
   "execution_count": null,
   "id": "e2ba8a0f-5763-4c40-bfea-62052294b64a",
   "metadata": {
    "tags": []
   },
   "outputs": [],
   "source": [
    "In statistics, uniform distribution refers to a type of probability distribution\n",
    "in which all outcomes are equally likely\n",
    "example is rolling a  dice and outcome is 1,2,3,4,5,6 means equal value of appearing of all value\n"
   ]
  },
  {
   "cell_type": "markdown",
   "id": "a5488ad9-c8d3-4dfb-a871-e4cbb8b34f85",
   "metadata": {},
   "source": [
    "ques 8"
   ]
  },
  {
   "cell_type": "code",
   "execution_count": null,
   "id": "15c9ebc2-c400-4681-921e-9fdcf42facce",
   "metadata": {},
   "outputs": [],
   "source": [
    " z-score tells us the how many std a data point is from \n",
    "    the mean in a distribution\n",
    "     z-score is important because it tells\n",
    "        where your data lies in the data distribution"
   ]
  },
  {
   "cell_type": "markdown",
   "id": "b9471ac8-17b0-43ab-bec3-eb39fff53d37",
   "metadata": {},
   "source": [
    "ques 9"
   ]
  },
  {
   "cell_type": "code",
   "execution_count": null,
   "id": "0c991698-ae9b-4d94-8155-707a979dd605",
   "metadata": {},
   "outputs": [],
   "source": [
    "CLT it stated that it is used to analyze the large data set because it help to assumption\n",
    "that mean will be normally distributed\n",
    "it is important  because analyzing large data sets "
   ]
  },
  {
   "cell_type": "markdown",
   "id": "1b1f273c-2a0f-4422-9d29-588e054943a0",
   "metadata": {},
   "source": [
    "ques 10"
   ]
  },
  {
   "cell_type": "code",
   "execution_count": null,
   "id": "87053783-f3be-4df3-b743-97d803158a10",
   "metadata": {},
   "outputs": [],
   "source": [
    "The data must collected/stucked to the randomization rule."
   ]
  },
  {
   "cell_type": "code",
   "execution_count": null,
   "id": "b43d64e6-165a-4759-8797-0e04389b172f",
   "metadata": {},
   "outputs": [],
   "source": []
  },
  {
   "cell_type": "code",
   "execution_count": null,
   "id": "c0e85c07-4416-4c5f-be45-9102fc6bc5ec",
   "metadata": {},
   "outputs": [],
   "source": []
  }
 ],
 "metadata": {
  "kernelspec": {
   "display_name": "Python 3 (ipykernel)",
   "language": "python",
   "name": "python3"
  },
  "language_info": {
   "codemirror_mode": {
    "name": "ipython",
    "version": 3
   },
   "file_extension": ".py",
   "mimetype": "text/x-python",
   "name": "python",
   "nbconvert_exporter": "python",
   "pygments_lexer": "ipython3",
   "version": "3.10.8"
  }
 },
 "nbformat": 4,
 "nbformat_minor": 5
}
